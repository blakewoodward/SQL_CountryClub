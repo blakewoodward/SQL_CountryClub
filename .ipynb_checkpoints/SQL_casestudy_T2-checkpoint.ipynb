{
 "cells": [
  {
   "cell_type": "code",
   "execution_count": 3,
   "id": "76d30eca",
   "metadata": {},
   "outputs": [],
   "source": [
    "import pandas as pd\n",
    "from sqlalchemy import create_engine\n",
    "\n",
    "engine = create_engine('sqlite:///sqlite_db_pythonsqlite.db')"
   ]
  },
  {
   "cell_type": "code",
   "execution_count": 10,
   "id": "396a65e0",
   "metadata": {},
   "outputs": [
    {
     "name": "stdout",
     "output_type": "stream",
     "text": [
      "            name  revenue\n",
      "0   Table Tennis      180\n",
      "1  Snooker Table      240\n",
      "2     Pool Table      270\n"
     ]
    }
   ],
   "source": [
    "Q10 = \"\"\"\n",
    "WITH B AS (SELECT B.facid, SUM(CASE WHEN B.memid = 0 THEN F.guestcost * B.slots\n",
    "                               ELSE F.membercost * B.slots END) AS revenue\n",
    "            FROM Facilities AS F\n",
    "            INNER JOIN Bookings AS B\n",
    "            USING(facid)\n",
    "            GROUP BY B.facid)\n",
    "SELECT F.name, B.revenue\n",
    "FROM Facilities AS F\n",
    "INNER JOIN B\n",
    "USING(facid)\n",
    "WHERE B.revenue < 1000\n",
    "ORDER BY revenue;\n",
    "\"\"\"\n",
    "\n",
    "\n",
    "revanue_sub1000 = pd.read_sql_query(Q10, engine)\n",
    "\n",
    "print(revanue_sub1000)"
   ]
  },
  {
   "cell_type": "code",
   "execution_count": 21,
   "id": "1bfa082f",
   "metadata": {},
   "outputs": [
    {
     "name": "stdout",
     "output_type": "stream",
     "text": [
      "              surname  firstname Recomender_sur Recomender_first\n",
      "0               Bader   Florence       Stibbons           Ponder\n",
      "1               Baker       Anne       Stibbons           Ponder\n",
      "2               Baker    Timothy        Farrell           Jemima\n",
      "3              Boothe        Tim         Rownam              Tim\n",
      "4             Butters     Gerald          Smith           Darren\n",
      "5              Coplin       Joan          Baker          Timothy\n",
      "6             Crumpet      Erica          Smith            Tracy\n",
      "7                Dare      Nancy       Joplette           Janice\n",
      "8             Genting    Matthew        Butters           Gerald\n",
      "9                Hunt       John        Purview        Millicent\n",
      "10              Jones      David       Joplette           Janice\n",
      "11              Jones    Douglas          Jones            David\n",
      "12           Joplette     Janice          Smith           Darren\n",
      "13          Mackenzie       Anna          Smith           Darren\n",
      "14               Owen    Charles          Smith           Darren\n",
      "15             Pinker      David        Farrell           Jemima\n",
      "16            Purview  Millicent          Smith            Tracy\n",
      "17             Rumney  Henrietta        Genting          Matthew\n",
      "18             Sarwin  Ramnaresh          Bader         Florence\n",
      "19              Smith       Jack          Smith           Darren\n",
      "20           Stibbons     Ponder          Tracy           Burton\n",
      "21  Worthington-Smyth      Henry          Smith            Tracy\n"
     ]
    }
   ],
   "source": [
    "Q11 = '''\n",
    "SELECT M1.surname, M1.firstname, M2.surname AS Recomender_sur, M2.firstname AS Recomender_first\n",
    "FROM Members AS M1\n",
    "INNER JOIN Members AS M2\n",
    "ON M1.recommendedby = M2.memid\n",
    "ORDER BY M1.surname, M1.firstname\n",
    "'''\n",
    "\n",
    "recomenders = pd.read_sql_query(Q11, engine)\n",
    "\n",
    "print(recomenders)"
   ]
  },
  {
   "cell_type": "code",
   "execution_count": 23,
   "id": "ddcb6bf0",
   "metadata": {},
   "outputs": [
    {
     "name": "stdout",
     "output_type": "stream",
     "text": [
      "              name  total_usage\n",
      "0  Badminton Court         1086\n",
      "1   Massage Room 1          884\n",
      "2   Massage Room 2           54\n",
      "3       Pool Table          856\n",
      "4    Snooker Table          860\n",
      "5     Squash Court          418\n",
      "6     Table Tennis          794\n",
      "7   Tennis Court 1          957\n",
      "8   Tennis Court 2          882\n"
     ]
    }
   ],
   "source": [
    "Q12 = '''\n",
    "SELECT F.name, SUM(slots) AS total_usage\n",
    "FROM Facilities AS F\n",
    "INNER JOIN (SELECT B.facid, slots FROM\n",
    "            Bookings AS B\n",
    "            WHERE memid != 0) AS Bk\n",
    "USING (facid)\n",
    "GROUP BY F.name\n",
    "'''\n",
    "\n",
    "member_usage = pd.read_sql_query(Q12, engine)\n",
    "\n",
    "print(member_usage)"
   ]
  },
  {
   "cell_type": "code",
   "execution_count": 29,
   "id": "7605317f",
   "metadata": {
    "scrolled": true
   },
   "outputs": [
    {
     "name": "stdout",
     "output_type": "stream",
     "text": [
      "               name month  total_usage\n",
      "0   Badminton Court    07          165\n",
      "1   Badminton Court    08          414\n",
      "2   Badminton Court    09          507\n",
      "3    Massage Room 1    07          166\n",
      "4    Massage Room 1    08          316\n",
      "5    Massage Room 1    09          402\n",
      "6    Massage Room 2    07            8\n",
      "7    Massage Room 2    08           18\n",
      "8    Massage Room 2    09           28\n",
      "9        Pool Table    07          110\n",
      "10       Pool Table    08          303\n",
      "11       Pool Table    09          443\n",
      "12    Snooker Table    07          140\n",
      "13    Snooker Table    08          316\n",
      "14    Snooker Table    09          404\n",
      "15     Squash Court    07           50\n",
      "16     Squash Court    08          184\n",
      "17     Squash Court    09          184\n",
      "18     Table Tennis    07           98\n",
      "19     Table Tennis    08          296\n",
      "20     Table Tennis    09          400\n",
      "21   Tennis Court 1    07          201\n",
      "22   Tennis Court 1    08          339\n",
      "23   Tennis Court 1    09          417\n",
      "24   Tennis Court 2    07          123\n",
      "25   Tennis Court 2    08          345\n",
      "26   Tennis Court 2    09          414\n"
     ]
    }
   ],
   "source": [
    "Q13 = '''\n",
    "SELECT F.name, Bk.month, SUM(slots) AS total_usage\n",
    "FROM Facilities AS F\n",
    "INNER JOIN (SELECT B.facid, slots, strftime('%m', starttime) AS month \n",
    "            FROM Bookings AS B\n",
    "            WHERE memid != 0) AS Bk\n",
    "USING (facid)\n",
    "GROUP BY F.name, month\n",
    "'''\n",
    "\n",
    "member_usage_by_month = pd.read_sql_query(Q13, engine)\n",
    "\n",
    "print(member_usage_by_month)"
   ]
  }
 ],
 "metadata": {
  "kernelspec": {
   "display_name": "Python 3",
   "language": "python",
   "name": "python3"
  },
  "language_info": {
   "codemirror_mode": {
    "name": "ipython",
    "version": 3
   },
   "file_extension": ".py",
   "mimetype": "text/x-python",
   "name": "python",
   "nbconvert_exporter": "python",
   "pygments_lexer": "ipython3",
   "version": "3.8.8"
  }
 },
 "nbformat": 4,
 "nbformat_minor": 5
}
